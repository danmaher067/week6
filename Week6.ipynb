{
  "nbformat": 4,
  "nbformat_minor": 0,
  "metadata": {
    "colab": {
      "name": "Week6.ipynb",
      "provenance": [],
      "collapsed_sections": [],
      "toc_visible": true,
      "mount_file_id": "19c8M7XX-nfGZ8LcIcKg4BDAdTTyD2wli",
      "authorship_tag": "ABX9TyPCP5q0I8zIuXpqGS0RgoxQ",
      "include_colab_link": true
    },
    "kernelspec": {
      "name": "python3",
      "display_name": "Python 3"
    },
    "language_info": {
      "name": "python"
    }
  },
  "cells": [
    {
      "cell_type": "markdown",
      "metadata": {
        "id": "view-in-github",
        "colab_type": "text"
      },
      "source": [
        "<a href=\"https://colab.research.google.com/github/danmaher067/week6/blob/main/Week6.ipynb\" target=\"_parent\"><img src=\"https://colab.research.google.com/assets/colab-badge.svg\" alt=\"Open In Colab\"/></a>"
      ]
    },
    {
      "cell_type": "markdown",
      "metadata": {
        "id": "K98vQyMSSiBT"
      },
      "source": [
        "# **Week 6: File ingestion and schema validation**"
      ]
    },
    {
      "cell_type": "markdown",
      "metadata": {
        "id": "wGxN7pNHSziY"
      },
      "source": [
        "## **Section 1: Read the file using Dash, Modin, Ray**"
      ]
    },
    {
      "cell_type": "markdown",
      "metadata": {
        "id": "Xm31UUSmTBez"
      },
      "source": [
        "### First thing to do is install modin and Dash"
      ]
    },
    {
      "cell_type": "code",
      "metadata": {
        "id": "dISZMOHRFB9A"
      },
      "source": [
        "pip install modin"
      ],
      "execution_count": null,
      "outputs": []
    },
    {
      "cell_type": "markdown",
      "metadata": {
        "id": "V0_dLMX4Y-VA"
      },
      "source": [
        "import dask.dataframe as dd"
      ]
    },
    {
      "cell_type": "code",
      "metadata": {
        "id": "IGdTgBJaFuve"
      },
      "source": [
        "pip install 'fsspec>=0.3.3'"
      ],
      "execution_count": null,
      "outputs": []
    },
    {
      "cell_type": "code",
      "metadata": {
        "id": "0FDSg-gMHbs2"
      },
      "source": [
        "pip install modin[all]"
      ],
      "execution_count": null,
      "outputs": []
    },
    {
      "cell_type": "markdown",
      "metadata": {
        "id": "4uihRwpjFsl_"
      },
      "source": [
        ""
      ]
    },
    {
      "cell_type": "markdown",
      "metadata": {
        "id": "nkBU64cgTRfw"
      },
      "source": [
        "Then import the installed libaries"
      ]
    },
    {
      "cell_type": "code",
      "metadata": {
        "id": "5hqMEZ4OFUZH"
      },
      "source": [
        "import pandas as pd\n",
        "import modin.pandas as mpd\n",
        "import dask.dataframe as dd\n",
        "import time"
      ],
      "execution_count": null,
      "outputs": []
    },
    {
      "cell_type": "markdown",
      "metadata": {
        "id": "buoa2wFVTeSU"
      },
      "source": [
        "Read the file with pandas into a dataframe"
      ]
    },
    {
      "cell_type": "markdown",
      "metadata": {
        "id": "To9NB99pTow3"
      },
      "source": [
        "The below functions will take the file as a arugument and calculate the time. taken to read using pandas , modin and dask.\n",
        "The results are seen in the graph."
      ]
    },
    {
      "cell_type": "code",
      "metadata": {
        "id": "qjTmQ1MjF6n-"
      },
      "source": [
        "def readPandas(file):\n",
        "  start = time.time()\n",
        "  dfp = df_pd=pd.read_csv(file)\n",
        "  end = time.time()\n",
        "  pandastimetaken = end-start\n",
        "  print(f\"Modin Appending Time :{pandastimetaken}\")\n",
        "  return pandastimetaken"
      ],
      "execution_count": null,
      "outputs": []
    },
    {
      "cell_type": "code",
      "metadata": {
        "id": "HlZphR6gGzgQ"
      },
      "source": [
        "\n",
        "def readModin(file):\n",
        "  start = time.time()\n",
        "  mpd.read_csv(file)\n",
        "  end = time.time()\n",
        "  modintimetaken = end-start\n",
        "  print(f\"Modin Appending Time :{modintimetaken}\")\n",
        "  return modintimetaken"
      ],
      "execution_count": null,
      "outputs": []
    },
    {
      "cell_type": "code",
      "metadata": {
        "id": "1PnXFyV2Hu5t"
      },
      "source": [
        "def readDask(file):\n",
        "  start = time.time()\n",
        "  dd.read_csv(file)\n",
        "  end = time.time()\n",
        "  dasktimetaken = end-start\n",
        "  print(f\"Modin Appending Time :{dasktimetaken}\")\n",
        "  return dasktimetaken"
      ],
      "execution_count": null,
      "outputs": []
    },
    {
      "cell_type": "markdown",
      "metadata": {
        "id": "1h5Aw8yQUMbH"
      },
      "source": [
        "Create a visulation of the time taken to read the file in pandas, modin and dask"
      ]
    },
    {
      "cell_type": "code",
      "metadata": {
        "id": "K4OJ5rH1WFJ8"
      },
      "source": [
        "import matplotlib.pyplot as plt\n",
        "import seaborn as sns\n",
        "import numpy as np"
      ],
      "execution_count": null,
      "outputs": []
    },
    {
      "cell_type": "code",
      "metadata": {
        "colab": {
          "base_uri": "https://localhost:8080/"
        },
        "id": "E8_vb0RM6CZ9",
        "outputId": "336412f9-6459-4c57-f9e1-42cb87727ec4"
      },
      "source": [
        "import pandas as pd\n",
        "df = pd.read_csv('/content/drive/MyDrive/Colab Notebooks/Final_Cab_Data_Combined.csv')\n"
      ],
      "execution_count": null,
      "outputs": [
        {
          "output_type": "stream",
          "text": [
            "DtypeWarning: Columns (0,4,5,6,7,10,11,13) have mixed types.Specify dtype option on import or set low_memory=False.\n"
          ],
          "name": "stderr"
        }
      ]
    },
    {
      "cell_type": "code",
      "metadata": {
        "colab": {
          "base_uri": "https://localhost:8080/",
          "height": 691
        },
        "id": "nlZnQNTlWm3u",
        "outputId": "4fcd95ea-be95-442c-b7e8-87853fdc08d2"
      },
      "source": [
        "# Plots styles.\n",
        "plt.style.use('ggplot')\n",
        "filename = '/content/drive/MyDrive/Colab Notebooks/Final_Cab_Data_Combined.csv'\n",
        "# Plot size.\n",
        "plt.rcParams['figure.figsize'] = (14, 10)\n",
        "y = readPandas(filename),readModin(filename),readDask(filename)\n",
        "x = np.array([\"Pandas\", \"Modin\", \"Dask\"])\n",
        "for i in range(len(x)):\n",
        "        plt.text(i,y[i],y[i])\n",
        "plt.bar(x,y)\n",
        "plt.ylabel('time in seconds')\n",
        "plt.title(\"Time taken to read the same file\")\n",
        "plt.xlabel(\"computational efficiency\")\n",
        "plt.show();"
      ],
      "execution_count": null,
      "outputs": [
        {
          "output_type": "stream",
          "text": [
            "DtypeWarning: Columns (0,4,5,6,7,10,11,13) have mixed types.Specify dtype option on import or set low_memory=False.\n"
          ],
          "name": "stderr"
        },
        {
          "output_type": "stream",
          "text": [
            "Modin Appending Time :3.061779737472534\n",
            "Modin Appending Time :2.9961204528808594\n",
            "Modin Appending Time :0.031200170516967773\n"
          ],
          "name": "stdout"
        },
        {
          "output_type": "display_data",
          "data": {
            "image/png": "[encoded data removed]",
            "text/plain": [
              "<Figure size 1008x720 with 1 Axes>"
            ]
          },
          "metadata": {
            "tags": []
          }
        }
      ]
    },
    {
      "cell_type": "markdown",
      "metadata": {
        "id": "YAOogQdaZver"
      },
      "source": [
        "The above figure shows the speed of reading a large file.<br>\n",
        "\n",
        "\n",
        "*   It can be seen that the Dask is exponetaily faster than Pandas."
      ]
    },
    {
      "cell_type": "markdown",
      "metadata": {
        "id": "i9RPk6TtUmrI"
      },
      "source": [
        "# Do some validation on the read file<br>"
      ]
    },
    {
      "cell_type": "markdown",
      "metadata": {
        "id": "UnNukQdXoL00"
      },
      "source": [
        "Here's how its done:<br>\n",
        "  Step 1: install pandas_schema<br>\n",
        "  For this we can simply do pip install pandas_schema<br>\n",
        "  Step 2: define some simple type checking methods<br>\n",
        "  We will read a csv file. For a simple demonstration we will just consider simple validation rules, such as checking if a type is null, integer or decimal, but using pandas_schema we can do also more complex stuff"
      ]
    },
    {
      "cell_type": "code",
      "metadata": {
        "id": "ze0UrgLyo3J3"
      },
      "source": [
        "def read_file(file):\n",
        "    df = pd.read_csv(file)\n",
        "    if(df.empty):\n",
        "      print('CSV file is empty')\n",
        "    else:\n",
        "      print('CSV file is not empty')"
      ],
      "execution_count": null,
      "outputs": []
    },
    {
      "cell_type": "code",
      "metadata": {
        "colab": {
          "base_uri": "https://localhost:8080/"
        },
        "id": "7shDAUk-0FMC",
        "outputId": "a7f3339e-9e92-4eea-e777-c5ffc98a0e8b"
      },
      "source": [
        "read_file(filename)"
      ],
      "execution_count": null,
      "outputs": [
        {
          "output_type": "stream",
          "text": [
            "DtypeWarning: Columns (0,4,5,6,7,10,11,13) have mixed types.Specify dtype option on import or set low_memory=False.\n"
          ],
          "name": "stderr"
        },
        {
          "output_type": "stream",
          "text": [
            "CSV file is not empty\n"
          ],
          "name": "stdout"
        }
      ]
    },
    {
      "cell_type": "code",
      "metadata": {
        "colab": {
          "base_uri": "https://localhost:8080/"
        },
        "id": "7vprjCCyhAX8",
        "outputId": "7b34e640-d7b8-4763-8526-0d45c98d8111"
      },
      "source": [
        "df.info()"
      ],
      "execution_count": null,
      "outputs": [
        {
          "output_type": "stream",
          "text": [
            "<class 'pandas.core.frame.DataFrame'>\n",
            "RangeIndex: 1048575 entries, 0 to 1048574\n",
            "Data columns (total 14 columns):\n",
            " #   Column              Non-Null Count    Dtype \n",
            "---  ------              --------------    ----- \n",
            " 0   Transaction ID      1048575 non-null  object\n",
            " 1   Date of Travel      1048575 non-null  object\n",
            " 2   Company             1048575 non-null  object\n",
            " 3   CITY                1048575 non-null  object\n",
            " 4   KM Travelled        1048575 non-null  object\n",
            " 5   Price Charged       1048575 non-null  object\n",
            " 6   Cost of Trip        1048575 non-null  object\n",
            " 7   Customer ID         1048575 non-null  object\n",
            " 8   Payment_Mode        1048575 non-null  object\n",
            " 9   Gender              1048575 non-null  object\n",
            " 10  Age                 1048575 non-null  object\n",
            " 11  Income (USD/Month)  1048575 non-null  object\n",
            " 12  Population          1048575 non-null  object\n",
            " 13  Users               1048575 non-null  object\n",
            "dtypes: object(14)\n",
            "memory usage: 112.0+ MB\n"
          ],
          "name": "stdout"
        }
      ]
    },
    {
      "cell_type": "markdown",
      "metadata": {
        "id": "6GcRznsVU4j2"
      },
      "source": [
        "# Section 2 <br>\n",
        "*** \n",
        "The schema validation rules below will validated the data in the columns<br>[schema validation example and ref ](https://github.com/TMiguelT/PandasSchema)"
      ]
    },
    {
      "cell_type": "code",
      "metadata": {
        "id": "s715dnMln6ju"
      },
      "source": [
        "# remove special charachers\n",
        "def remSpecial(dataframe):\n",
        "  # Python code to remove special char\n",
        "  # using replace() \n",
        "   \n",
        "  # initializing special characters \n",
        "  sp_chars = [';', ':', '!', \"*\",\" \"] \n",
        "   \n",
        "  # using replace() to  \n",
        "  # remove special chars  \n",
        "  for i in sp_chars : \n",
        "      dataframe = dataframe.replace(i, '')\n",
        "   \n",
        "  # printing resultant string  \n",
        "  print (\"After Remove special char \")\n",
        "  return dataframe"
      ],
      "execution_count": null,
      "outputs": []
    },
    {
      "cell_type": "code",
      "metadata": {
        "colab": {
          "base_uri": "https://localhost:8080/"
        },
        "id": "ZPYOfyK_fLb7",
        "outputId": "6c2a9234-0718-49d4-93e3-4c7d330ffbbe"
      },
      "source": [
        "#df = remSpecial(df)"
      ],
      "execution_count": null,
      "outputs": [
        {
          "output_type": "stream",
          "text": [
            "After Remove special char \n"
          ],
          "name": "stdout"
        }
      ]
    },
    {
      "cell_type": "code",
      "metadata": {
        "id": "nQFPmZz2osAz"
      },
      "source": [
        "pip install pandas_schema"
      ],
      "execution_count": null,
      "outputs": []
    },
    {
      "cell_type": "code",
      "metadata": {
        "id": "vCxsnFAfecCM"
      },
      "source": [
        "from io import StringIO\n",
        "from pandas_schema import Column, Schema\n",
        "from pandas_schema.validation import LeadingWhitespaceValidation, TrailingWhitespaceValidation, CanConvertValidation, MatchesPatternValidation, InRangeValidation, InListValidation"
      ],
      "execution_count": null,
      "outputs": []
    },
    {
      "cell_type": "code",
      "metadata": {
        "id": "yHH_0-63b002"
      },
      "source": [
        "# Create the schema\n",
        "schema1 = Schema([\n",
        "    #The tranaction ID check the range, remove white spaces. \n",
        "    Column('Transaction ID', [InRangeValidation(10000000, 11000000),LeadingWhitespaceValidation(), TrailingWhitespaceValidation()]),\n",
        "    # use a regular expression to check the date\n",
        "    Column('Date of Travel', [MatchesPatternValidation(r'^([0-2][0-9]|(3)[0-1])(\\/)(((0)[0-9])|((1)[0-2]))(\\/)\\d{4}$'),LeadingWhitespaceValidation(), TrailingWhitespaceValidation()]),\n",
        "    #Column('Company', [LeadingWhitespaceValidation(), TrailingWhitespaceValidation()]),\n",
        "    Column('Company', [InListValidation(['Yellow Cab', 'Pink Cab']),LeadingWhitespaceValidation(), TrailingWhitespaceValidation()]),\n",
        "    #Column('Age', [InRangeValidation(0, 120)]),\n",
        "    Column('CITY', [LeadingWhitespaceValidation(), TrailingWhitespaceValidation()]),\n",
        "    Column('KM Travelled', [InRangeValidation(0, 100),LeadingWhitespaceValidation(), TrailingWhitespaceValidation()]),\n",
        "    #Column('Price Charged',[MatchesPatternValidation(r'\\d{4}.\\d{2}'),LeadingWhitespaceValidation(), TrailingWhitespaceValidation()]),\n",
        "    Column('Price Charged',[InRangeValidation(0, 10000.00),LeadingWhitespaceValidation(), TrailingWhitespaceValidation()]),\n",
        "    #Column('Cost of Trip', [MatchesPatternValidation(r'\\d{4}.\\d{2}'),LeadingWhitespaceValidation(), TrailingWhitespaceValidation()]),\n",
        "    Column('Cost of Trip', [InRangeValidation(0, 10000.00),LeadingWhitespaceValidation(), TrailingWhitespaceValidation()]),\n",
        "    #Column('Customer ID', [MatchesPatternValidation(r'\\d{5}'),LeadingWhitespaceValidation(), TrailingWhitespaceValidation()]),\n",
        "    Column('Customer ID', [InRangeValidation(0, 100000),LeadingWhitespaceValidation(), TrailingWhitespaceValidation()]),\n",
        "    Column('Payment_Mode', [InListValidation(['Card', 'Cash']),LeadingWhitespaceValidation(), TrailingWhitespaceValidation()]),\n",
        "    Column('Gender',[InListValidation(['Male', 'Female','Other']),LeadingWhitespaceValidation(), TrailingWhitespaceValidation()]),\n",
        "    Column('Age', [InRangeValidation(0, 120)]),\n",
        "    Column('Income (USD/Month)', [InRangeValidation(0, 100000),LeadingWhitespaceValidation(), TrailingWhitespaceValidation()]),\n",
        "    Column('Population', [LeadingWhitespaceValidation(), TrailingWhitespaceValidation()]),\n",
        "    Column('Users', [InRangeValidation(0,1000000 ),LeadingWhitespaceValidation(), TrailingWhitespaceValidation()]),\n",
        "    #Column('Sex', [InListValidation(['Male', 'Female', 'Other'])]),\n",
        "    #Column('Company', [InListValidation(['Yellow Cab', 'Pink Cab'])]),\n",
        "    #Column('Customer ID', [MatchesPatternValidation(r'\\d{4}[A-Z]{4}')])\n",
        "])"
      ],
      "execution_count": null,
      "outputs": []
    },
    {
      "cell_type": "code",
      "metadata": {
        "id": "ZefeLN6cJxY1"
      },
      "source": [
        "# function to check for errors in the file\n",
        "def checkforErrors(dataframe):\n",
        "  errors1 = schema1.validate(dataframe)\n",
        "  #for error1 in errors1:\n",
        "  return errors1"
      ],
      "execution_count": null,
      "outputs": []
    },
    {
      "cell_type": "code",
      "metadata": {
        "id": "WhUmQR88cFD8"
      },
      "source": [
        "# function to accumlate errors and remove then\n",
        "def errors(daf):\n",
        "  rowNumber =0\n",
        "  error1 = checkforErrors(daf)\n",
        "  rowNumber = int(error1[0].row)\n",
        "  return daf.drop(rowNumber)\n",
        " \n"
      ],
      "execution_count": null,
      "outputs": []
    },
    {
      "cell_type": "code",
      "metadata": {
        "colab": {
          "base_uri": "https://localhost:8080/"
        },
        "id": "5S7jyYIz2ASc",
        "outputId": "4cffb90b-427a-419b-fe88-9902eac3c132"
      },
      "source": [
        "#for i in checkforErrors():\n",
        "#  print(i)\n"
      ],
      "execution_count": null,
      "outputs": [
        {
          "output_type": "stream",
          "text": [
            "UserWarning: This pattern has match groups. To actually get the groups, use str.extract.\n"
          ],
          "name": "stderr"
        },
        {
          "output_type": "stream",
          "text": [
            "{row: 1010524, column: \"Transaction ID\"}: \"Transaction ID\" was not in the range [10000000, 11000000)\n",
            "{row: 1010524, column: \"Date of Travel\"}: \"Date of Travel\" does not match the pattern \"^([0-2][0-9]|(3)[0-1])(\\/)(((0)[0-9])|((1)[0-2]))(\\/)\\d{4}$\"\n",
            "{row: 1010524, column: \"Company\"}: \"Company\" is not in the list of legal options (Yellow Cab, Pink Cab)\n",
            "{row: 1010524, column: \"KM Travelled\"}: \"KM Travelled\" was not in the range [0, 100)\n",
            "{row: 1010524, column: \"Price Charged\"}: \"Price Charged\" was not in the range [0, 10000.0)\n",
            "{row: 1010524, column: \"Cost of Trip\"}: \"Cost of Trip\" was not in the range [0, 10000.0)\n",
            "{row: 1010524, column: \"Customer ID\"}: \"Customer ID\" was not in the range [0, 100000)\n",
            "{row: 1010524, column: \"Payment_Mode\"}: \"Payment_Mode\" is not in the list of legal options (Card, Cash)\n",
            "{row: 1010524, column: \"Gender\"}: \"Gender\" is not in the list of legal options (Male, Female, Other)\n",
            "{row: 1010524, column: \"Age\"}: \"Age\" was not in the range [0, 120)\n",
            "{row: 1010524, column: \"Income (USD/Month)\"}: \"Income (USD/Month)\" was not in the range [0, 100000)\n",
            "{row: 1010524, column: \"Users\"}: \"Users\" was not in the range [0, 1000000)\n"
          ],
          "name": "stdout"
        }
      ]
    },
    {
      "cell_type": "code",
      "metadata": {
        "colab": {
          "base_uri": "https://localhost:8080/"
        },
        "id": "1otOhns4q_VJ",
        "outputId": "9510a12b-42ed-43b2-cd83-df4373197e9e"
      },
      "source": [
        "#show the row id \n",
        "print(int(errors[0].row))"
      ],
      "execution_count": null,
      "outputs": [
        {
          "output_type": "stream",
          "text": [
            "1010524\n"
          ],
          "name": "stdout"
        }
      ]
    },
    {
      "cell_type": "code",
      "metadata": {
        "colab": {
          "base_uri": "https://localhost:8080/"
        },
        "id": "RUlFdf66cUp7",
        "outputId": "b6693bbf-e5f1-4fe8-c204-21e2c15eebb5"
      },
      "source": [
        "#remove the rows with errors\n",
        "#df = errors(df)"
      ],
      "execution_count": null,
      "outputs": [
        {
          "output_type": "stream",
          "text": [
            "UserWarning: This pattern has match groups. To actually get the groups, use str.extract.\n"
          ],
          "name": "stderr"
        }
      ]
    },
    {
      "cell_type": "code",
      "metadata": {
        "colab": {
          "base_uri": "https://localhost:8080/"
        },
        "id": "Qd2HyEuy1l1T",
        "outputId": "4d417534-aa02-4dfc-c42f-e7cd17b73140"
      },
      "source": [
        "#recheck for errors\n",
        "#cke = checkforErrors()\n",
        "#print(cke)"
      ],
      "execution_count": null,
      "outputs": [
        {
          "output_type": "stream",
          "text": [
            "UserWarning: This pattern has match groups. To actually get the groups, use str.extract.\n"
          ],
          "name": "stderr"
        },
        {
          "output_type": "stream",
          "text": [
            "[]\n"
          ],
          "name": "stdout"
        }
      ]
    },
    {
      "cell_type": "code",
      "metadata": {
        "colab": {
          "base_uri": "https://localhost:8080/"
        },
        "id": "Z011bTuUJKzN",
        "outputId": "3a8d47f6-b307-4ca3-9d36-f4b1546abedd"
      },
      "source": [
        "# loop over the file until the all errors are identified and removed\n",
        "i = 1\n",
        "df = remSpecial(df)\n",
        "while i != 0:\n",
        "  cke = checkforErrors(df)\n",
        "  for e in cke:\n",
        "    print(e)\n",
        "  if len(cke) != 0:\n",
        "    df = errors(df)\n",
        "  else:\n",
        "    i = 0\n",
        "    print(\"Completed\")\n",
        "\n",
        "\n",
        "\n",
        "  "
      ],
      "execution_count": null,
      "outputs": [
        {
          "output_type": "stream",
          "text": [
            "After Remove special char \n"
          ],
          "name": "stdout"
        },
        {
          "output_type": "stream",
          "text": [
            "UserWarning: This pattern has match groups. To actually get the groups, use str.extract.\n"
          ],
          "name": "stderr"
        },
        {
          "output_type": "stream",
          "text": [
            "{row: 1010524, column: \"Transaction ID\"}: \"Transaction ID\" was not in the range [10000000, 11000000)\n",
            "{row: 1010524, column: \"Date of Travel\"}: \"Date of Travel\" does not match the pattern \"^([0-2][0-9]|(3)[0-1])(\\/)(((0)[0-9])|((1)[0-2]))(\\/)\\d{4}$\"\n",
            "{row: 1010524, column: \"Company\"}: \"Company\" is not in the list of legal options (Yellow Cab, Pink Cab)\n",
            "{row: 1010524, column: \"KM Travelled\"}: \"KM Travelled\" was not in the range [0, 100)\n",
            "{row: 1010524, column: \"Price Charged\"}: \"Price Charged\" was not in the range [0, 10000.0)\n",
            "{row: 1010524, column: \"Cost of Trip\"}: \"Cost of Trip\" was not in the range [0, 10000.0)\n",
            "{row: 1010524, column: \"Customer ID\"}: \"Customer ID\" was not in the range [0, 100000)\n",
            "{row: 1010524, column: \"Payment_Mode\"}: \"Payment_Mode\" is not in the list of legal options (Card, Cash)\n",
            "{row: 1010524, column: \"Gender\"}: \"Gender\" is not in the list of legal options (Male, Female, Other)\n",
            "{row: 1010524, column: \"Age\"}: \"Age\" was not in the range [0, 120)\n",
            "{row: 1010524, column: \"Income (USD/Month)\"}: \"Income (USD/Month)\" was not in the range [0, 100000)\n",
            "{row: 1010524, column: \"Users\"}: \"Users\" was not in the range [0, 1000000)\n"
          ],
          "name": "stdout"
        },
        {
          "output_type": "stream",
          "text": [
            "UserWarning: This pattern has match groups. To actually get the groups, use str.extract.\n",
            "UserWarning: This pattern has match groups. To actually get the groups, use str.extract.\n"
          ],
          "name": "stderr"
        },
        {
          "output_type": "stream",
          "text": [
            "Completed\n"
          ],
          "name": "stdout"
        }
      ]
    },
    {
      "cell_type": "markdown",
      "metadata": {
        "id": "d4j4qAwLYNU2"
      },
      "source": [
        "# Yaml<br>\n",
        "yaml file in week 6 Final_Cab_Data_Combiined"
      ]
    },
    {
      "cell_type": "code",
      "metadata": {
        "colab": {
          "base_uri": "https://localhost:8080/"
        },
        "id": "S44fe3Uldv3i",
        "outputId": "b9dc19cc-b35b-45e7-93cf-d28dbe45dffa"
      },
      "source": [
        "pip install pyaml"
      ],
      "execution_count": null,
      "outputs": [
        {
          "output_type": "stream",
          "text": [
            "Collecting pyaml\n",
            "  Downloading https://files.pythonhosted.org/packages/15/c4/1310a054d33abc318426a956e7d6df0df76a6ddfa9c66f6310274fb75d42/pyaml-20.4.0-py2.py3-none-any.whl\n",
            "Requirement already satisfied: PyYAML in /usr/local/lib/python3.7/dist-packages (from pyaml) (3.13)\n",
            "Installing collected packages: pyaml\n",
            "Successfully installed pyaml-20.4.0\n"
          ],
          "name": "stdout"
        }
      ]
    },
    {
      "cell_type": "code",
      "metadata": {
        "id": "F6ncI2kHjMA3"
      },
      "source": [
        "from pyaml import yaml"
      ],
      "execution_count": null,
      "outputs": []
    },
    {
      "cell_type": "markdown",
      "metadata": {
        "id": "N0BfGoltcEkC"
      },
      "source": [
        "Attempt number 1. With little or no knowledge of creating yaml schema files,it a long time to reasearch this topic. Lectures were no help. "
      ]
    },
    {
      "cell_type": "code",
      "metadata": {
        "colab": {
          "base_uri": "https://localhost:8080/"
        },
        "id": "TI2kN1l13GnT",
        "outputId": "d224e3d4-9ce8-498c-feed-01aee5710781"
      },
      "source": [
        "import yaml\n",
        "with open('Final_Cab_Data_Combiined1.yaml', 'r') as f:\n",
        "  schemayaml = yaml.load(f)\n",
        "  print(schemayaml)\n"
      ],
      "execution_count": null,
      "outputs": [
        {
          "output_type": "stream",
          "text": [
            "{'TransactionID': 'int()', 'DateofTravel': 'str()', 'Company': 'bool()', 'CITY': 'str()', 'KMTravelled': 'int()', 'PriceCharged': 'int()', 'CostofTrip': 'int()', 'CustomerID': 'int()', 'Payment_Mode': 'bool()', 'Gender': 'bool()', 'Age': 'int()', 'Income': 'int()', 'Population': 'int()', 'Users': 'int()'}\n"
          ],
          "name": "stdout"
        }
      ]
    },
    {
      "cell_type": "code",
      "metadata": {
        "id": "c91Uw_BjAMql"
      },
      "source": [
        "schemayaml = Schema([schemayaml])"
      ],
      "execution_count": null,
      "outputs": []
    },
    {
      "cell_type": "code",
      "metadata": {
        "id": "lJs8HbpGBvvl"
      },
      "source": [
        "yamlerr = schemayaml.validate(df)"
      ],
      "execution_count": null,
      "outputs": []
    },
    {
      "cell_type": "code",
      "metadata": {
        "colab": {
          "base_uri": "https://localhost:8080/"
        },
        "id": "1Pjit33pAQmj",
        "outputId": "f3af48bb-4dac-4d8d-d3de-685cb709c2d4"
      },
      "source": [
        "print(yamlerr)\n",
        "for i in yamlerr:\n",
        "  print(i)"
      ],
      "execution_count": null,
      "outputs": [
        {
          "output_type": "stream",
          "text": [
            "[<pandas_schema.validation_warning.ValidationWarning object at 0x7fa868cef3d0>]\n",
            "Invalid number of columns. The schema specifies 1, but the data frame has 14\n"
          ],
          "name": "stdout"
        }
      ]
    },
    {
      "cell_type": "code",
      "metadata": {
        "id": "QTQNKQkTMSjY"
      },
      "source": [
        "emp_dict = {'Transaction ID':int,'Date of Travel':object,'Company':object,'CITY':object,\n",
        "            'KM Travelled':float,'Price Charged':float,'Cost of Trip':float,'Customer ID':int,\n",
        "            'Payment_Mode':object,'Gender':object,'Age':int,'Income (USD/Month)':int,'Population':object,'Users'}"
      ],
      "execution_count": null,
      "outputs": []
    },
    {
      "cell_type": "code",
      "metadata": {
        "colab": {
          "base_uri": "https://localhost:8080/"
        },
        "id": "_F3hV7fWRm07",
        "outputId": "76d0cb9a-fa89-47f2-ed4a-01b4412c5e2e"
      },
      "source": [
        "yaml_string = yaml.dump(emp_dict)\n",
        "print(yaml_string)"
      ],
      "execution_count": null,
      "outputs": [
        {
          "output_type": "stream",
          "text": [
            "{Age: &id002 !!python/name:builtins.int '', CITY: &id001 !!python/name:builtins.object '',\n",
            "  Company: *id001, Cost of Trip: &id003 !!python/name:builtins.float '', Customer ID: *id002,\n",
            "  Date of Travel: *id001, Gender: *id001, Income (USD/Month): *id002, KM Travelled: *id003,\n",
            "  Payment_Mode: *id001, Population: *id001, Price Charged: *id003, Transaction ID: *id002,\n",
            "  Users: *id003}\n",
            "\n"
          ],
          "name": "stdout"
        }
      ]
    },
    {
      "cell_type": "code",
      "metadata": {
        "id": "qvtzkXaCOIk8"
      },
      "source": [
        "with open('Cab_Data.yaml','w')as f:\n",
        "  yaml.dump(emp_dict, f)"
      ],
      "execution_count": null,
      "outputs": []
    },
    {
      "cell_type": "code",
      "metadata": {
        "id": "_4kCmXi3cQuQ"
      },
      "source": [
        ""
      ],
      "execution_count": null,
      "outputs": []
    },
    {
      "cell_type": "markdown",
      "metadata": {
        "id": "NAsv8IIaSgGn"
      },
      "source": [
        ""
      ]
    },
    {
      "cell_type": "code",
      "metadata": {
        "colab": {
          "base_uri": "https://localhost:8080/"
        },
        "id": "_yY5VDxmWm02",
        "outputId": "4bb7eb1c-0c8e-40a6-e765-2c42c35fe61d"
      },
      "source": [
        "pip install yamale"
      ],
      "execution_count": null,
      "outputs": [
        {
          "output_type": "stream",
          "text": [
            "Collecting yamale\n",
            "  Downloading https://files.pythonhosted.org/packages/b4/38/6f37519205ccff4d165d7cc66a209b8da7c582fc42b3efa380df94c1da6d/yamale-3.0.4.tar.gz\n",
            "Requirement already satisfied: pyyaml in /usr/local/lib/python3.7/dist-packages (from yamale) (3.13)\n",
            "Building wheels for collected packages: yamale\n",
            "  Building wheel for yamale (setup.py) ... \u001b[?25l\u001b[?25hdone\n",
            "  Created wheel for yamale: filename=yamale-3.0.4-cp37-none-any.whl size=48031 sha256=a68d51d95d24d8f97b3d69d5507dd60040df4f5c02588242a5c69d0e388131f1\n",
            "  Stored in directory: /root/.cache/pip/wheels/1a/55/41/79433f196ea0f555797c109f8b22345fb1f79f016961ed4e35\n",
            "Successfully built yamale\n",
            "Installing collected packages: yamale\n",
            "Successfully installed yamale-3.0.4\n"
          ],
          "name": "stdout"
        }
      ]
    },
    {
      "cell_type": "markdown",
      "metadata": {
        "id": "J-oXcizSgfkD"
      },
      "source": [
        "ref:https://github.com/23andMe/Yamale & https://pypi.org/project/yamale/"
      ]
    },
    {
      "cell_type": "code",
      "metadata": {
        "id": "VSqkuCRVWvL4"
      },
      "source": [
        "# Import Yamale and make a schema object:\n",
        "import yamale\n",
        "schema = yamale.make_schema('Final_Cab_Data_Combiined1.yaml')"
      ],
      "execution_count": null,
      "outputs": []
    },
    {
      "cell_type": "code",
      "metadata": {
        "id": "0QzR1Dslb4ca"
      },
      "source": [
        "# Create a Data object\n",
        "data = yamale.make_data('data.yaml')"
      ],
      "execution_count": null,
      "outputs": []
    },
    {
      "cell_type": "code",
      "metadata": {
        "id": "fkSYp5BScAes"
      },
      "source": [
        "err = yamale.validate(schema, data)"
      ],
      "execution_count": null,
      "outputs": []
    },
    {
      "cell_type": "code",
      "metadata": {
        "colab": {
          "base_uri": "https://localhost:8080/"
        },
        "id": "SEq_ftYfeJr_",
        "outputId": "735c7219-911a-42bf-ec43-6b4853376ab9"
      },
      "source": [
        "for i in err:\n",
        "  print(i)"
      ],
      "execution_count": null,
      "outputs": [
        {
          "output_type": "stream",
          "text": [
            "'data.yaml' is Valid\n"
          ],
          "name": "stdout"
        }
      ]
    },
    {
      "cell_type": "markdown",
      "metadata": {
        "id": "Ajo5WitWjWsF"
      },
      "source": [
        "# Section 3 "
      ]
    },
    {
      "cell_type": "code",
      "metadata": {
        "id": "oI-tGsG2jS5u"
      },
      "source": [
        "def changeDelimiter():\n",
        "  import csv\n",
        "  try:\n",
        "      reader = csv.reader(open(filename, \"r\"), delimiter=',')\n",
        "      writer = csv.writer(open('/content/drive/MyDrive/Colab Notebooks/Final_Cab_Delimeter_Changed.txt', 'w'), delimiter='|')\n",
        "      writer.writerows(reader)\n",
        "      print(\"Delimiter successfully changed\")\n",
        "  except IOError:\n",
        "      print(\"File read write error\")\n"
      ],
      "execution_count": null,
      "outputs": []
    },
    {
      "cell_type": "code",
      "metadata": {
        "colab": {
          "base_uri": "https://localhost:8080/"
        },
        "id": "A8h5Jv5lo1g-",
        "outputId": "5d933d03-681c-40d3-d58f-327a53b85ea7"
      },
      "source": [
        "changeDelimiter()"
      ],
      "execution_count": null,
      "outputs": [
        {
          "output_type": "stream",
          "text": [
            "Delimiter successfully changed\n"
          ],
          "name": "stdout"
        }
      ]
    },
    {
      "cell_type": "code",
      "metadata": {
        "id": "3pfDAv6DRcnw"
      },
      "source": [
        "describe = str(df.describe)"
      ],
      "execution_count": 78,
      "outputs": []
    },
    {
      "cell_type": "code",
      "metadata": {
        "id": "tv6_CNFHR4VV"
      },
      "source": [
        "countRows = str(df.count())"
      ],
      "execution_count": 80,
      "outputs": []
    },
    {
      "cell_type": "code",
      "metadata": {
        "colab": {
          "base_uri": "https://localhost:8080/",
          "height": 35
        },
        "id": "2WWlh69WSQ7G",
        "outputId": "63488957-3efc-46ef-decb-0735de6866c6"
      },
      "source": [
        "#columns\n",
        "totalColumns = str(len(df.columns))\n",
        "tC =\"The total number of columns is \"+ totalColumns\n",
        "tC"
      ],
      "execution_count": 126,
      "outputs": [
        {
          "output_type": "execute_result",
          "data": {
            "application/vnd.google.colaboratory.intrinsic+json": {
              "type": "string"
            },
            "text/plain": [
              "'The total number of columns is 14'"
            ]
          },
          "metadata": {
            "tags": []
          },
          "execution_count": 126
        }
      ]
    },
    {
      "cell_type": "code",
      "metadata": {
        "colab": {
          "base_uri": "https://localhost:8080/",
          "height": 35
        },
        "id": "J7nGOnyKS2Bo",
        "outputId": "cb3200ab-81c4-4913-b96f-027a838fd177"
      },
      "source": [
        "import os\n",
        "filesize = os.stat('/content/drive/MyDrive/Colab Notebooks/Final_Cab_Data_Combined.csv').st_size\n",
        "totalfilesize = \"The file size is: \" + str(filesize) + \" kB\"\n",
        "totalfilesize"
      ],
      "execution_count": 121,
      "outputs": [
        {
          "output_type": "execute_result",
          "data": {
            "application/vnd.google.colaboratory.intrinsic+json": {
              "type": "string"
            },
            "text/plain": [
              "'The file size is: 111765645 kB'"
            ]
          },
          "metadata": {
            "tags": []
          },
          "execution_count": 121
        }
      ]
    },
    {
      "cell_type": "code",
      "metadata": {
        "colab": {
          "base_uri": "https://localhost:8080/"
        },
        "id": "EO6_uXroTYd_",
        "outputId": "198e8bee-27e1-4ac7-e0f6-c5b5f98bdc0a"
      },
      "source": [
        "#write\n",
        "import os\n",
        "f = open(r\"Week6_summary.txt\", \"w\") \n",
        "f.write(\"This is a Summary file for week 6 assignmemnt. \\n\\n\")\n",
        "f.write(\"THe total count of the rows:\\n\" + countRows+\"\\n\")\n",
        "f.write(\"\\n\"+tC+\"\\n\")\n",
        "f.write(\"\\n\"+totalfilesize)\n",
        "f.close()\n",
        "#read\n",
        "f = open(\"mydocument.txt\", \"r\")\n",
        "print(\"New text:\",f.read())"
      ],
      "execution_count": 127,
      "outputs": [
        {
          "output_type": "stream",
          "text": [
            "New text: This is a Summary file for week 6 assignmemnt. \n",
            "<bound method NDFrame.describe of         Transaction ID Date of Travel  ... Population  Users\n",
            "0             10000011     08/01/2016  ...    814,885  24701\n",
            "1             10000012     06/01/2016  ...    814,885  24701\n",
            "2             10000013     02/01/2016  ...    814,885  24701\n",
            "3             10000014     07/01/2016  ...    814,885  24701\n",
            "4             10000015     03/01/2016  ...    814,885  24701\n",
            "...                ...            ...  ...        ...    ...\n",
            "1048570       10048157     25/06/2016  ...    942,908  22157\n",
            "1048571       10048158     30/06/2016  ...    942,908  22157\n",
            "1048572       10048159     01/07/2016  ...    942,908  22157\n",
            "1048573       10048160     26/06/2016  ...    942,908  22157\n",
            "1048574       10048161     25/06/2016  ...    942,908  22157\n",
            "\n",
            "[1048574 rows x 14 columns]>/nTransaction ID        1048574\n",
            "Date of Travel        1048574\n",
            "Company               1048574\n",
            "CITY                  1048574\n",
            "KM Travelled          1048574\n",
            "Price Charged         1048574\n",
            "Cost of Trip          1048574\n",
            "Customer ID           1048574\n",
            "Payment_Mode          1048574\n",
            "Gender                1048574\n",
            "Age                   1048574\n",
            "Income (USD/Month)    1048574\n",
            "Population            1048574\n",
            "Users                 1048574\n",
            "dtype: int64/n14\n"
          ],
          "name": "stdout"
        }
      ]
    }
  ]
}